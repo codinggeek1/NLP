{
 "cells": [
  {
   "cell_type": "code",
   "execution_count": 1,
   "id": "2be7e997",
   "metadata": {},
   "outputs": [
    {
     "name": "stderr",
     "output_type": "stream",
     "text": [
      "[nltk_data] Downloading package punkt to\n",
      "[nltk_data]     C:\\Users\\RVCCF021\\AppData\\Roaming\\nltk_data...\n",
      "[nltk_data]   Package punkt is already up-to-date!\n",
      "[nltk_data] Downloading package wordnet to\n",
      "[nltk_data]     C:\\Users\\RVCCF021\\AppData\\Roaming\\nltk_data...\n",
      "[nltk_data]   Package wordnet is already up-to-date!\n",
      "[nltk_data] Downloading package stopwords to\n",
      "[nltk_data]     C:\\Users\\RVCCF021\\AppData\\Roaming\\nltk_data...\n",
      "[nltk_data]   Package stopwords is already up-to-date!\n"
     ]
    },
    {
     "name": "stdout",
     "output_type": "stream",
     "text": [
      "Top 5 LSA Topics:\n",
      "Topic 1: -0.886*\"best\" + -0.196*\"way\" + -0.169*\"s\" + -0.149*\"get\" + -0.130*\")\" + -0.100*\"book\" + -0.097*\"thing\" + -0.090*\"learn\" + -0.082*\"``\" + -0.080*\"one\"\n",
      "Topic 2: 0.569*\"``\" + -0.318*\"best\" + 0.315*\"s\" + 0.314*\"one\" + 0.268*\"get\" + 0.200*\")\" + 0.183*\"nt\" + 0.155*\"like\" + 0.130*\"need\" + 0.115*\"good\"\n",
      "Topic 3: -0.721*\"get\" + 0.519*\"``\" + -0.177*\"university\" + -0.133*\")\" + -0.119*\"like\" + 0.111*\"best\" + 0.108*\"s\" + -0.093*\"job\" + -0.090*\"engineering\" + -0.089*\"back\"\n",
      "Topic 4: 0.448*\")\" + 0.444*\"like\" + -0.430*\"get\" + 0.356*\"india\" + -0.302*\"``\" + 0.201*\"time\" + 0.148*\"people\" + 0.112*\"much\" + 0.111*\"country\" + 0.078*\"think\"\n",
      "Topic 5: 0.501*\"s\" + 0.444*\"one\" + -0.428*\"``\" + -0.420*\")\" + -0.155*\"university\" + -0.118*\"get\" + 0.109*\"trump\" + 0.106*\"life\" + 0.099*\"need\" + 0.095*\"donald\"\n"
     ]
    }
   ],
   "source": [
    "import pandas as pd\n",
    "import matplotlib.pyplot as plt\n",
    "\n",
    "import nltk\n",
    "from nltk.tokenize import word_tokenize\n",
    "from nltk.stem import WordNetLemmatizer\n",
    "from nltk.corpus import stopwords\n",
    "\n",
    "import gensim\n",
    "from gensim.corpora import Dictionary\n",
    "from gensim.models import LsiModel\n",
    "from gensim.matutils import corpus2csc\n",
    "\n",
    "\n",
    "df = pd.read_csv(\"QP7.csv\")\n",
    "data = df.sample(n=1000, axis=0)\n",
    "data = data['Question']\n",
    "\n",
    "\n",
    "nltk.download('punkt')\n",
    "nltk.download('wordnet')\n",
    "nltk.download('stopwords')\n",
    "\n",
    "\n",
    "lemmatizer = WordNetLemmatizer()\n",
    "stop_words = set(stopwords.words(\"english\"))\n",
    "\n",
    "def preprocess(text):\n",
    "    text = text.lower()\n",
    "    words = word_tokenize(text)\n",
    "    words = [lemmatizer.lemmatize(word) for word in words if word not in stop_words]\n",
    "    import re\n",
    "    special_chars = r'[,.:;?\\(\\'\"\\s]'\n",
    "    words = [re.sub(special_chars, '', word) for word in words]\n",
    "    return words\n",
    "\n",
    "\n",
    "data = data.apply(preprocess)\n",
    "\n",
    "\n",
    "dictionary = Dictionary(data)\n",
    "\n",
    "\n",
    "dictionary.filter_extremes(no_below=5, no_above=0.5)\n",
    "\n",
    "\n",
    "bow_corpus = [dictionary.doc2bow(text) for text in data]\n",
    "\n",
    "\n",
    "num_topics = 5\n",
    "lsamodel = LsiModel(bow_corpus, num_topics=num_topics, id2word=dictionary)\n",
    "\n",
    "\n",
    "topics = lsamodel.show_topics(num_topics=num_topics, num_words=10)\n",
    "\n",
    "\n",
    "top_topics = []\n",
    "for topic in topics:\n",
    "    top_topics.append(topic[1])\n",
    "\n",
    "\n",
    "print(\"Top 5 LSA Topics:\")\n",
    "for i, topic in enumerate(top_topics, start=1):\n",
    "    print(\"Topic {}: {}\".format(i, topic))"
   ]
  },
  {
   "cell_type": "code",
   "execution_count": null,
   "id": "e67898c1",
   "metadata": {},
   "outputs": [],
   "source": []
  }
 ],
 "metadata": {
  "kernelspec": {
   "display_name": "Python 3 (ipykernel)",
   "language": "python",
   "name": "python3"
  },
  "language_info": {
   "codemirror_mode": {
    "name": "ipython",
    "version": 3
   },
   "file_extension": ".py",
   "mimetype": "text/x-python",
   "name": "python",
   "nbconvert_exporter": "python",
   "pygments_lexer": "ipython3",
   "version": "3.11.5"
  }
 },
 "nbformat": 4,
 "nbformat_minor": 5
}
